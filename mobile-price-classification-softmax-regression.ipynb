{
 "cells": [
  {
   "cell_type": "code",
   "execution_count": 1,
   "id": "8e248098",
   "metadata": {
    "execution": {
     "iopub.execute_input": "2023-12-29T01:37:55.295336Z",
     "iopub.status.busy": "2023-12-29T01:37:55.294787Z",
     "iopub.status.idle": "2023-12-29T01:37:55.308819Z",
     "shell.execute_reply": "2023-12-29T01:37:55.307902Z"
    },
    "papermill": {
     "duration": 0.021181,
     "end_time": "2023-12-29T01:37:55.311050",
     "exception": false,
     "start_time": "2023-12-29T01:37:55.289869",
     "status": "completed"
    },
    "tags": []
   },
   "outputs": [
    {
     "name": "stdout",
     "output_type": "stream",
     "text": [
      "/kaggle/input/mobile-price-classification/train.csv\n",
      "/kaggle/input/mobile-price-classification/test.csv\n"
     ]
    }
   ],
   "source": [
    "import os\n",
    "for dirname, _, filenames in os.walk('/kaggle/input'):\n",
    "    for filename in filenames:\n",
    "        print(os.path.join(dirname, filename))"
   ]
  },
  {
   "cell_type": "code",
   "execution_count": 2,
   "id": "f3fea320",
   "metadata": {
    "execution": {
     "iopub.execute_input": "2023-12-29T01:37:55.318180Z",
     "iopub.status.busy": "2023-12-29T01:37:55.317526Z",
     "iopub.status.idle": "2023-12-29T01:37:57.165624Z",
     "shell.execute_reply": "2023-12-29T01:37:57.164887Z"
    },
    "papermill": {
     "duration": 1.853871,
     "end_time": "2023-12-29T01:37:57.167747",
     "exception": false,
     "start_time": "2023-12-29T01:37:55.313876",
     "status": "completed"
    },
    "tags": []
   },
   "outputs": [],
   "source": [
    "import pandas as pd \n",
    "import matplotlib.pyplot as mp\n",
    "from sklearn.model_selection import train_test_split\n",
    "from sklearn.decomposition import PCA\n",
    "from sklearn.preprocessing import StandardScaler\n",
    "from sklearn.linear_model import LogisticRegression\n",
    "from sklearn.metrics import accuracy_score, classification_report, confusion_matrix, f1_score"
   ]
  },
  {
   "cell_type": "code",
   "execution_count": 3,
   "id": "0f727261",
   "metadata": {
    "execution": {
     "iopub.execute_input": "2023-12-29T01:37:57.175873Z",
     "iopub.status.busy": "2023-12-29T01:37:57.174205Z",
     "iopub.status.idle": "2023-12-29T01:37:57.236876Z",
     "shell.execute_reply": "2023-12-29T01:37:57.236063Z"
    },
    "papermill": {
     "duration": 0.068952,
     "end_time": "2023-12-29T01:37:57.239352",
     "exception": false,
     "start_time": "2023-12-29T01:37:57.170400",
     "status": "completed"
    },
    "tags": []
   },
   "outputs": [],
   "source": [
    "data = pd.read_csv(\"/kaggle/input/mobile-price-classification/train.csv\")\n",
    "test_data = pd.read_csv(\"/kaggle/input/mobile-price-classification/test.csv\")\n",
    "\n",
    "data_frame = pd.DataFrame(data)\n",
    "\n",
    "standard_train_data = StandardScaler().fit_transform(data_frame)\n",
    "\n",
    "pca = PCA(n_components= data_frame.shape[1])\n",
    "principal_components = pca.fit_transform(standard_train_data)"
   ]
  },
  {
   "cell_type": "code",
   "execution_count": 4,
   "id": "bc7011ed",
   "metadata": {
    "execution": {
     "iopub.execute_input": "2023-12-29T01:37:57.248474Z",
     "iopub.status.busy": "2023-12-29T01:37:57.247364Z",
     "iopub.status.idle": "2023-12-29T01:37:57.252904Z",
     "shell.execute_reply": "2023-12-29T01:37:57.252237Z"
    },
    "papermill": {
     "duration": 0.012141,
     "end_time": "2023-12-29T01:37:57.254822",
     "exception": false,
     "start_time": "2023-12-29T01:37:57.242681",
     "status": "completed"
    },
    "tags": []
   },
   "outputs": [],
   "source": [
    "variance = pca.explained_variance_ratio_\n",
    "ratio = []\n",
    "for i in range(len(variance)):\n",
    "    summ = 0\n",
    "    for j in range(i+1):\n",
    "        summ = summ + variance[j]\n",
    "    ratio.append(summ)"
   ]
  },
  {
   "cell_type": "code",
   "execution_count": 5,
   "id": "097690de",
   "metadata": {
    "execution": {
     "iopub.execute_input": "2023-12-29T01:37:57.263277Z",
     "iopub.status.busy": "2023-12-29T01:37:57.262628Z",
     "iopub.status.idle": "2023-12-29T01:37:57.490028Z",
     "shell.execute_reply": "2023-12-29T01:37:57.489251Z"
    },
    "papermill": {
     "duration": 0.234208,
     "end_time": "2023-12-29T01:37:57.492331",
     "exception": false,
     "start_time": "2023-12-29T01:37:57.258123",
     "status": "completed"
    },
    "tags": []
   },
   "outputs": [
    {
     "data": {
      "text/plain": [
       "<matplotlib.collections.PathCollection at 0x790577c09360>"
      ]
     },
     "execution_count": 5,
     "metadata": {},
     "output_type": "execute_result"
    },
    {
     "data": {
      "image/png": "[encoded data removed]",
      "text/plain": [
       "<Figure size 640x480 with 1 Axes>"
      ]
     },
     "metadata": {},
     "output_type": "display_data"
    }
   ],
   "source": [
    "mp.scatter(range(len(variance)),sorted(ratio, reverse=True))"
   ]
  },
  {
   "cell_type": "code",
   "execution_count": 6,
   "id": "83dc5d58",
   "metadata": {
    "execution": {
     "iopub.execute_input": "2023-12-29T01:37:57.500343Z",
     "iopub.status.busy": "2023-12-29T01:37:57.499823Z",
     "iopub.status.idle": "2023-12-29T01:37:57.802567Z",
     "shell.execute_reply": "2023-12-29T01:37:57.801083Z"
    },
    "papermill": {
     "duration": 0.309558,
     "end_time": "2023-12-29T01:37:57.804953",
     "exception": false,
     "start_time": "2023-12-29T01:37:57.495395",
     "status": "completed"
    },
    "tags": []
   },
   "outputs": [],
   "source": [
    "standard_train_data_frame = pd.DataFrame(standard_train_data)\n",
    "\n",
    "x_train, x_test, y_train, y_test = train_test_split(standard_train_data_frame.iloc[:,:-1], data_frame.iloc[:,-1])\n",
    "\n",
    "lr = LogisticRegression(max_iter = 10000, multi_class= \"multinomial\", solver= \"saga\", tol = 1e-15)\n",
    "lr.fit(x_train, y_train)\n",
    "predict_train_data = lr.predict(x_train)\n",
    "predict_test_data = lr.predict(x_test)"
   ]
  },
  {
   "cell_type": "code",
   "execution_count": 7,
   "id": "e2202d40",
   "metadata": {
    "execution": {
     "iopub.execute_input": "2023-12-29T01:37:57.812770Z",
     "iopub.status.busy": "2023-12-29T01:37:57.812337Z",
     "iopub.status.idle": "2023-12-29T01:37:57.828670Z",
     "shell.execute_reply": "2023-12-29T01:37:57.827409Z"
    },
    "papermill": {
     "duration": 0.022776,
     "end_time": "2023-12-29T01:37:57.830785",
     "exception": false,
     "start_time": "2023-12-29T01:37:57.808009",
     "status": "completed"
    },
    "tags": []
   },
   "outputs": [
    {
     "name": "stdout",
     "output_type": "stream",
     "text": [
      "              precision    recall  f1-score   support\n",
      "\n",
      "           0       0.97      0.98      0.98       381\n",
      "           1       0.96      0.95      0.96       373\n",
      "           2       0.97      0.97      0.97       372\n",
      "           3       0.98      0.99      0.99       374\n",
      "\n",
      "    accuracy                           0.97      1500\n",
      "   macro avg       0.97      0.97      0.97      1500\n",
      "weighted avg       0.97      0.97      0.97      1500\n",
      "\n",
      "Accuracy of training data is:  0.972\n"
     ]
    }
   ],
   "source": [
    "print (classification_report (y_train, predict_train_data))\n",
    "print (\"Accuracy of training data is: \", accuracy_score (y_train, predict_train_data))"
   ]
  },
  {
   "cell_type": "code",
   "execution_count": 8,
   "id": "b99a516a",
   "metadata": {
    "execution": {
     "iopub.execute_input": "2023-12-29T01:37:57.838574Z",
     "iopub.status.busy": "2023-12-29T01:37:57.838180Z",
     "iopub.status.idle": "2023-12-29T01:37:57.858072Z",
     "shell.execute_reply": "2023-12-29T01:37:57.856570Z"
    },
    "papermill": {
     "duration": 0.026034,
     "end_time": "2023-12-29T01:37:57.860033",
     "exception": false,
     "start_time": "2023-12-29T01:37:57.833999",
     "status": "completed"
    },
    "tags": []
   },
   "outputs": [
    {
     "name": "stdout",
     "output_type": "stream",
     "text": [
      "              precision    recall  f1-score   support\n",
      "\n",
      "           0       0.97      0.99      0.98       119\n",
      "           1       0.98      0.95      0.96       127\n",
      "           2       0.98      0.93      0.96       128\n",
      "           3       0.95      1.00      0.97       126\n",
      "\n",
      "    accuracy                           0.97       500\n",
      "   macro avg       0.97      0.97      0.97       500\n",
      "weighted avg       0.97      0.97      0.97       500\n",
      "\n",
      "Accuracy of test data is:  0.968\n",
      "\n",
      "\n",
      "The confusion matrix is found as:\n",
      " [[118   1   0   0]\n",
      " [  4 121   2   0]\n",
      " [  0   2 119   7]\n",
      " [  0   0   0 126]]\n",
      "\n",
      "\n",
      "f1-score of the model is:\n",
      " 0.9680482011184199\n"
     ]
    }
   ],
   "source": [
    "print (classification_report (y_test, predict_test_data))\n",
    "print (\"Accuracy of test data is: \", accuracy_score (y_test,predict_test_data ))\n",
    "print(\"\\n\\nThe confusion matrix is found as:\\n\", confusion_matrix(y_test,predict_test_data))\n",
    "print(\"\\n\\nf1-score of the model is:\\n\",f1_score(y_test,predict_test_data, average= \"macro\"))"
   ]
  }
 ],
 "metadata": {
  "kaggle": {
   "accelerator": "none",
   "dataSources": [
    {
     "datasetId": 11167,
     "sourceId": 15520,
     "sourceType": "datasetVersion"
    }
   ],
   "dockerImageVersionId": 30626,
   "isGpuEnabled": false,
   "isInternetEnabled": false,
   "language": "python",
   "sourceType": "notebook"
  },
  "kernelspec": {
   "display_name": "Python 3",
   "language": "python",
   "name": "python3"
  },
  "language_info": {
   "codemirror_mode": {
    "name": "ipython",
    "version": 3
   },
   "file_extension": ".py",
   "mimetype": "text/x-python",
   "name": "python",
   "nbconvert_exporter": "python",
   "pygments_lexer": "ipython3",
   "version": "3.10.12"
  },
  "papermill": {
   "default_parameters": {},
   "duration": 5.860689,
   "end_time": "2023-12-29T01:37:58.483781",
   "environment_variables": {},
   "exception": null,
   "input_path": "__notebook__.ipynb",
   "output_path": "__notebook__.ipynb",
   "parameters": {},
   "start_time": "2023-12-29T01:37:52.623092",
   "version": "2.4.0"
  }
 },
 "nbformat": 4,
 "nbformat_minor": 5
}
